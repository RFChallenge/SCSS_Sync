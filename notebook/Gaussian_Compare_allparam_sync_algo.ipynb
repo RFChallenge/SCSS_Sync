{
 "cells": [
  {
   "cell_type": "code",
   "execution_count": null,
   "metadata": {},
   "outputs": [],
   "source": [
    "%load_ext autoreload\n",
    "%autoreload 2\n",
    "\n",
    "import os\n",
    "os.chdir(globals()['_dh'][0])\n",
    "os.chdir('..')\n",
    "print(os.path.abspath(os.curdir))"
   ]
  },
  {
   "cell_type": "code",
   "execution_count": 3,
   "metadata": {},
   "outputs": [
    {
     "name": "stderr",
     "output_type": "stream",
     "text": [
      "2022-08-17 13:39:06.952424: I tensorflow/stream_executor/platform/default/dso_loader.cc:49] Successfully opened dynamic library libcudart.so.11.0\n"
     ]
    }
   ],
   "source": [
    "import numpy as np\n",
    "import matplotlib.pyplot as plt\n",
    "from tqdm import tqdm\n",
    "import time\n",
    "import pickle\n",
    "from tqdm import tqdm\n",
    "\n",
    "# import rfcutils.qpsk_helper_fn as qpskfn\n",
    "# import rfcutils.ofdm_helper_fn as ofdmfn\n",
    "# import rfcutils.qpskgaussian_helper_fn as qpskfn\n",
    "# import rfcutils.ofdmgaussian_helper_fn as ofdmfn\n",
    "\n",
    "from src import cnn_model_delay as cnn_delay\n",
    "\n",
    "get_pow = lambda s: np.mean(np.abs(s)**2)\n",
    "get_sinr = lambda s, i: 10*np.log10(get_pow(s)/get_pow(i))"
   ]
  },
  {
   "cell_type": "code",
   "execution_count": 3,
   "metadata": {},
   "outputs": [],
   "source": [
    "from src import unet_model as unet"
   ]
  },
  {
   "cell_type": "markdown",
   "metadata": {},
   "source": [
    "---"
   ]
  },
  {
   "cell_type": "code",
   "execution_count": 4,
   "metadata": {},
   "outputs": [],
   "source": [
    "import tensorflow as tf"
   ]
  },
  {
   "cell_type": "code",
   "execution_count": 4,
   "metadata": {},
   "outputs": [],
   "source": [
    "sig_len = 1280"
   ]
  },
  {
   "cell_type": "markdown",
   "metadata": {},
   "source": [
    "---"
   ]
  },
  {
   "cell_type": "markdown",
   "metadata": {},
   "source": [
    "We load the weigths of the synchronization algorithm to interference to check if the oracle curve coincides with the one obtained after properly synchornize the signals"
   ]
  },
  {
   "cell_type": "code",
   "execution_count": null,
   "metadata": {},
   "outputs": [],
   "source": [
    "long_k_sz = 100\n",
    "window_len_sync = 640\n",
    "model_name = f'sync_mixture_OFDM64_CP16_QPSK_sig_len{window_len_sync}_K{long_k_sz}_V2batch'\n",
    "print(f'Training {model_name}')\n",
    "# input_shape = all_sig_mixture_train_comp.shape[1:]\n",
    "synch_model = cnn_delay.get_cnn_model_delay_new((window_len_sync, 2), vec_delays=80, k_sz=21, long_k_sz=long_k_sz)\n",
    "synch_model.load_weights(f'trained_models/sync_OFDM_model/{model_name}')"
   ]
  },
  {
   "cell_type": "code",
   "execution_count": 6,
   "metadata": {},
   "outputs": [],
   "source": [
    "fixed_tau_s = 0"
   ]
  },
  {
   "cell_type": "markdown",
   "metadata": {},
   "source": [
    "Note: Covariance was computed based on knowledge of the generation model (i.e., this is the true covariance, not an empirically estimated one; similarly, the filters computed are based on these covariances)"
   ]
  },
  {
   "cell_type": "code",
   "execution_count": 10,
   "metadata": {},
   "outputs": [],
   "source": [
    "cov_true_qpsk, cov_ofdm_sync = pickle.load(open('dataset/stats/oracle_covariance.pickle','rb'))\n",
    "\n",
    "cov_s, cov_b = np.zeros((sig_len, sig_len), dtype=complex), np.zeros((sig_len, sig_len), dtype=complex)\n",
    "for i in range(80):\n",
    "    cov_s += cov_true_qpsk[i:i+sig_len, i:i+sig_len]\n",
    "    cov_b += cov_ofdm_sync[i:i+sig_len, i:i+sig_len]\n",
    "cov_s = cov_s / 80\n",
    "cov_b = cov_b / 80"
   ]
  },
  {
   "cell_type": "markdown",
   "metadata": {},
   "source": [
    "These filters assume statistical independence between $s$ and $b$ and $w$, and that there is AWGN $w$ with variance 0.01. Refer to compute_linparam_stats.py for details"
   ]
  },
  {
   "cell_type": "code",
   "execution_count": 10,
   "metadata": {},
   "outputs": [
    {
     "name": "stderr",
     "output_type": "stream",
     "text": [
      "100%|██████████| 80/80 [00:20<00:00,  3.89it/s]\n",
      "100%|██████████| 80/80 [00:22<00:00,  3.62it/s]\n",
      "100%|██████████| 80/80 [00:21<00:00,  3.78it/s]\n",
      "100%|██████████| 80/80 [00:21<00:00,  3.64it/s]\n",
      "100%|██████████| 80/80 [00:21<00:00,  3.72it/s]\n",
      "100%|██████████| 80/80 [00:21<00:00,  3.81it/s]\n",
      "100%|██████████| 80/80 [00:21<00:00,  3.80it/s]\n",
      "100%|██████████| 80/80 [00:24<00:00,  3.30it/s]\n",
      "100%|██████████| 80/80 [00:23<00:00,  3.37it/s]\n",
      "100%|██████████| 80/80 [00:22<00:00,  3.58it/s]\n",
      "100%|██████████| 80/80 [00:22<00:00,  3.54it/s]\n",
      "100%|██████████| 80/80 [00:22<00:00,  3.52it/s]\n",
      "100%|██████████| 80/80 [00:21<00:00,  3.69it/s]\n",
      "100%|██████████| 80/80 [00:22<00:00,  3.56it/s]\n",
      "100%|██████████| 80/80 [00:22<00:00,  3.51it/s]\n",
      "100%|██████████| 80/80 [00:22<00:00,  3.56it/s]\n",
      "100%|██████████| 80/80 [00:21<00:00,  3.67it/s]\n",
      "100%|██████████| 80/80 [00:22<00:00,  3.54it/s]\n",
      "100%|██████████| 80/80 [00:25<00:00,  3.18it/s]\n",
      "100%|██████████| 80/80 [00:23<00:00,  3.34it/s]\n",
      "100%|██████████| 80/80 [00:21<00:00,  3.67it/s]\n",
      "100%|██████████| 80/80 [00:23<00:00,  3.42it/s]\n",
      "100%|██████████| 80/80 [00:22<00:00,  3.58it/s]\n"
     ]
    }
   ],
   "source": [
    "all_stat_param = {}\n",
    "tau_s = fixed_tau_s\n",
    "for sinr_db in np.arange(-30, 4, 1.5):\n",
    "    for tau_b in tqdm(range(80)):\n",
    "        Cyy_inv, log_det_Cyy, W, Ce = pickle.load(open(f'stats/linparam/filters_param_taus{tau_s}_taub{tau_b}_sinr{sinr_db:.01f}.pickle','rb'))\n",
    "        all_stat_param[(tau_b, sinr_db)] = (Cyy_inv, log_det_Cyy, W, Ce)"
   ]
  },
  {
   "cell_type": "code",
   "execution_count": 11,
   "metadata": {},
   "outputs": [],
   "source": [
    "from scipy import linalg\n",
    "\n",
    "window_len = sig_len\n",
    "def lmmse(sig_mixture, sinr_db):\n",
    "    sinr = 10**(sinr_db/10)\n",
    "    \n",
    "    scaled_Cbb = cov_b * 1/sinr\n",
    "    Cyy = cov_s + scaled_Cbb + 0.01*np.eye(window_len, dtype=complex)\n",
    "    Csy = cov_s.copy()\n",
    "\n",
    "#     Cyy_inv = np.linalg.pinv(Cyy,hermitian=True)\n",
    "    U,S,Vh = np.linalg.svd(Cyy,hermitian=True)\n",
    "    sthr_idx = np.linalg.matrix_rank(Cyy) + 1\n",
    "    Cyy_inv = np.matmul(U[:,:sthr_idx], np.matmul(np.diag(1.0/(S[:sthr_idx])), U[:,:sthr_idx].conj().T))\n",
    "    W = np.matmul(Csy,Cyy_inv)\n",
    "    \n",
    "    s_est_windows = np.matmul(W, sig_mixture.reshape(-1, window_len).T).T\n",
    "    s_est = s_est_windows.flatten()\n",
    "    \n",
    "    return s_est\n",
    "\n",
    "def sync_mmse(sig_mixture, sinr_db, tau_b, tau_s):\n",
    "    _, _, W, Ce = all_stat_param[(tau_b, sinr_db)]\n",
    "    s_est_windows = np.matmul(W, sig_mixture.reshape(-1, window_len).T).T\n",
    "    s_est = s_est_windows.flatten()\n",
    "\n",
    "    err = np.abs(np.mean(np.diag(Ce)))\n",
    "    return s_est, err\n",
    "\n",
    "\n",
    "def mmse(sig_mixture, sinr_db, tau_s=0):\n",
    "    sig_mixture = sig_mixture.reshape(-1,1)\n",
    "    all_log_prob = []\n",
    "    all_mmse = []\n",
    "    \n",
    "    for ii in range(80):                \n",
    "        param = all_stat_param[(ii, sinr_db)]\n",
    "        cyy_inv, det_param, W, _ = param\n",
    "        all_log_prob.append(-0.5*np.log(2*np.pi) - 0.5*det_param + (-0.5 * np.matmul(sig_mixture.conj().T, np.matmul(cyy_inv, sig_mixture)) ))\n",
    "\n",
    "        sig_est = np.matmul(W, sig_mixture.reshape(-1, window_len).T).T\n",
    "        sig_est = sig_est.squeeze()\n",
    "        all_mmse.append(sig_est)\n",
    "                \n",
    "    all_log_prob = np.array(all_log_prob).squeeze()\n",
    "    all_log_prob = all_log_prob - np.max(all_log_prob.real)\n",
    "    all_prob = np.exp(all_log_prob)\n",
    "    all_prob = all_prob / np.sum(all_prob)\n",
    "    \n",
    "    all_mmse = np.array(all_mmse)\n",
    "    \n",
    "    return np.sum(all_prob.reshape(-1,1)*all_mmse, axis=0)"
   ]
  },
  {
   "cell_type": "code",
   "execution_count": 21,
   "metadata": {},
   "outputs": [
    {
     "name": "stderr",
     "output_type": "stream",
     "text": [
      "100%|██████████| 100/100 [02:06<00:00,  1.27s/it]\n",
      "100%|██████████| 100/100 [02:05<00:00,  1.25s/it]\n",
      "100%|██████████| 100/100 [02:04<00:00,  1.25s/it]\n",
      "100%|██████████| 100/100 [02:06<00:00,  1.26s/it]\n",
      "100%|██████████| 100/100 [02:08<00:00,  1.29s/it]\n",
      "100%|██████████| 100/100 [02:09<00:00,  1.30s/it]\n",
      "100%|██████████| 100/100 [02:11<00:00,  1.32s/it]\n",
      "100%|██████████| 100/100 [02:12<00:00,  1.32s/it]\n",
      "100%|██████████| 100/100 [02:12<00:00,  1.33s/it]\n",
      "100%|██████████| 100/100 [02:10<00:00,  1.31s/it]\n",
      "100%|██████████| 100/100 [02:14<00:00,  1.34s/it]\n",
      "100%|██████████| 100/100 [02:18<00:00,  1.39s/it]\n",
      "100%|██████████| 100/100 [02:21<00:00,  1.41s/it]\n",
      "100%|██████████| 100/100 [02:29<00:00,  1.49s/it]\n",
      "100%|██████████| 100/100 [02:31<00:00,  1.52s/it]\n",
      "100%|██████████| 100/100 [02:33<00:00,  1.53s/it]\n",
      "100%|██████████| 100/100 [02:35<00:00,  1.55s/it]\n",
      "100%|██████████| 100/100 [02:35<00:00,  1.56s/it]\n",
      "100%|██████████| 100/100 [02:37<00:00,  1.58s/it]\n",
      "100%|██████████| 100/100 [02:37<00:00,  1.57s/it]\n",
      "100%|██████████| 100/100 [02:41<00:00,  1.61s/it]\n",
      "100%|██████████| 100/100 [02:40<00:00,  1.60s/it]\n",
      "100%|██████████| 100/100 [02:38<00:00,  1.59s/it]\n"
     ]
    }
   ],
   "source": [
    "import random\n",
    "random.seed(123)\n",
    "np.random.seed(123)\n",
    "\n",
    "n_per_sinr = 100\n",
    "\n",
    "all_mse = []\n",
    "all_mse2 = []\n",
    "all_err = []\n",
    "\n",
    "all_sinr = np.arange(-30,4,1.5)\n",
    "\n",
    "for target_sinr in all_sinr:\n",
    "    for idx in tqdm(range(n_per_sinr)):\n",
    "        sig1, _, _, _ = qpskfn.generate_qpsk_signal(sig_len//16 + 80)\n",
    "        start_idx0 = fixed_tau_s\n",
    "        sig1 = sig1[40*16+start_idx0:40*16+sig_len+start_idx0]\n",
    "\n",
    "        data2, _, _ = ofdmfn.generate_ofdm_signal(sig_len//80*56+4*56)\n",
    "        start_idx = np.random.randint(len(data2)-sig_len)\n",
    "        sig2 = data2[start_idx:start_idx+sig_len]\n",
    "        \n",
    "        sig2_segT_sync = data2[start_idx:start_idx+window_len_sync]\n",
    "        sig2_bands_compT_sync = np.dstack((sig2_segT_sync.real, sig2_segT_sync.imag))\n",
    "        tau_b = np.argmax(synch_model(sig2_bands_compT_sync[:,:window_len_sync,:]))\n",
    "        start_idx_est = (80-tau_b)%80\n",
    "        \n",
    "        coeff = np.sqrt(np.mean(np.abs(sig1)**2)/(np.mean(np.abs(sig2)**2)*(10**(target_sinr/10))))\n",
    "        \n",
    "        noise = 0.1/np.sqrt(2) * (np.random.randn(sig_len) + 1j*np.random.randn(sig_len))\n",
    "        sig_mixture = sig1 + sig2*coeff + noise\n",
    "        \n",
    "        sig1_lmmse = lmmse(sig_mixture, target_sinr)\n",
    "        sig1_smmse, err = sync_mmse(sig_mixture, target_sinr, start_idx_est % 80, start_idx0 % 16)\n",
    "        all_err.append(err)\n",
    "        sig1_mmse = mmse(sig_mixture, target_sinr)\n",
    "        \n",
    "        mse_arr, mse2_arr = [], []\n",
    "        \n",
    "        mse_arr.append(get_pow(sig1-sig1_lmmse))\n",
    "        mse_arr.append(get_pow(sig1-sig1_smmse))\n",
    "        mse_arr.append(get_pow(sig1-sig1_mmse))\n",
    "        mse2_arr.append(get_pow(sig1[320:-320]-sig1_lmmse[320:-320]))\n",
    "        mse2_arr.append(get_pow(sig1[320:-320]-sig1_smmse[320:-320]))\n",
    "        mse2_arr.append(get_pow(sig1[320:-320]-sig1_mmse[320:-320]))\n",
    "        \n",
    "        all_mse.append(mse_arr)\n",
    "        all_mse2.append(mse2_arr)"
   ]
  },
  {
   "cell_type": "code",
   "execution_count": 22,
   "metadata": {},
   "outputs": [],
   "source": [
    "all_mse = np.array(all_mse)"
   ]
  },
  {
   "cell_type": "markdown",
   "metadata": {},
   "source": [
    "Check that the Sync-MMSE and MMSE (posterior weighted) are equal"
   ]
  },
  {
   "cell_type": "code",
   "execution_count": 23,
   "metadata": {},
   "outputs": [
    {
     "name": "stdout",
     "output_type": "stream",
     "text": [
      "      U-Net Gaussian: -6.408 dB\n",
      "          U-Net Comm: -0.984 dB\n",
      "               LMMSE: -2.896 dB\n",
      "       Oracle QLMMSE: -7.699 dB\n",
      "                MMSE: -7.699 dB\n",
      "\n"
     ]
    },
    {
     "data": {
      "image/png": "[encoded data removed]",
      "text/plain": [
       "<Figure size 432x288 with 1 Axes>"
      ]
     },
     "metadata": {
      "needs_background": "light"
     },
     "output_type": "display_data"
    }
   ],
   "source": [
    "plt.plot(all_sinr, 10*np.log10(all_mse[:,-3].reshape(-1,n_per_sinr).mean(axis=-1)),'d-', label='LMMSE')\n",
    "plt.plot(all_sinr, 10*np.log10(all_mse[:,-2].reshape(-1,n_per_sinr).mean(axis=-1)),'d-', label='Sync MMSE')\n",
    "plt.plot(all_sinr, 10*np.log10(all_mse[:,-1].reshape(-1,n_per_sinr).mean(axis=-1)),'+--', label='MMSE')\n",
    "\n",
    "# plt.plot(all_sinr, 10*np.log10(all_mse[:,0].reshape(-1,n_per_sinr).mean(axis=-1)),'x-', label='U-Net trained for Gaussian')\n",
    "# plt.plot(all_sinr, 10*np.log10(all_mse[:,1].reshape(-1,n_per_sinr).mean(axis=-1)),'x-', label='U-Net trained for Comm')\n",
    "\n",
    "plt.legend()\n",
    "plt.xlim(xmax = 0, xmin = -24)\n",
    "plt.ylim(ymax = 0, ymin = -15)\n",
    "plt.grid()\n",
    "plt.xticks(np.arange(-24, 0, step=2))\n",
    "plt.yticks(np.arange(-15, 0, step=5))\n",
    "\n",
    "ta_mse = 10*np.log10(all_mse.mean(axis=0))\n",
    "methods = ['LMMSE', 'Oracle QLMMSE', 'MMSE']\n",
    "\n",
    "for n,m in zip(methods, ta_mse):\n",
    "    print(f'{n:>20}: {m:.03f} dB')\n",
    "print()"
   ]
  },
  {
   "cell_type": "code",
   "execution_count": 21,
   "metadata": {},
   "outputs": [],
   "source": [
    "mse_lmmse_data = np.stack((all_sinr, 10*np.log10(all_mse[:,-3].reshape(-1,n_per_sinr).mean(axis=-1))),axis=1)\n",
    "np.savetxt(\"data/mse_lmmse_data_sync_sec.csv\", mse_lmmse_data, delimiter=\",\")\n",
    "                          \n",
    "mse_qlmmse_data = np.stack((all_sinr, 10*np.log10(all_mse[:,-2].reshape(-1,n_per_sinr).mean(axis=-1))),axis=1)\n",
    "np.savetxt(\"data/mse_qlmmse_data_sync_sec.csv\", mse_qlmmse_data, delimiter=\",\")\n",
    "                           \n",
    "mse_mmse_data = np.stack((all_sinr, 10*np.log10(all_mse[:,-1].reshape(-1,n_per_sinr).mean(axis=-1))),axis=1)\n",
    "np.savetxt(\"data/mse_mmse_data_sync_sec.csv\", mse_mmse_data, delimiter=\",\")"
   ]
  },
  {
   "cell_type": "markdown",
   "metadata": {},
   "source": []
  }
 ],
 "metadata": {
  "kernelspec": {
   "display_name": "Python [conda env:.conda-rfsep]",
   "language": "python",
   "name": "conda-env-.conda-rfsep-py"
  },
  "language_info": {
   "codemirror_mode": {
    "name": "ipython",
    "version": 3
   },
   "file_extension": ".py",
   "mimetype": "text/x-python",
   "name": "python",
   "nbconvert_exporter": "python",
   "pygments_lexer": "ipython3",
   "version": "3.7.6"
  }
 },
 "nbformat": 4,
 "nbformat_minor": 4
}
