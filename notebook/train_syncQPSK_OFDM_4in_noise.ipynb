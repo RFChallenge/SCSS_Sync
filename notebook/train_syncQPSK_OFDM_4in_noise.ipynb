{
 "cells": [
  {
   "cell_type": "code",
   "execution_count": null,
   "metadata": {},
   "outputs": [],
   "source": [
    "%load_ext autoreload\n",
    "%autoreload 2\n",
    "\n",
    "import os\n",
    "os.chdir(globals()['_dh'][0])\n",
    "os.chdir('..')\n",
    "print(os.path.abspath(os.curdir))"
   ]
  },
  {
   "cell_type": "code",
   "execution_count": 2,
   "metadata": {},
   "outputs": [
    {
     "name": "stderr",
     "output_type": "stream",
     "text": [
      "2022-08-17 08:21:16.553524: I tensorflow/stream_executor/platform/default/dso_loader.cc:49] Successfully opened dynamic library libcudart.so.11.0\n"
     ]
    }
   ],
   "source": [
    "import pickle\n",
    "import numpy as np\n",
    "import matplotlib.pyplot as plt\n",
    "import random \n",
    "import tensorflow as tf\n",
    "from tqdm import tqdm\n",
    "from scipy import signal as sg\n",
    "\n",
    "import rfcutils # this corresponds to utility functions provided for the challenge\n",
    "\n",
    "import rfcutils.ofdm_helper_fn_short as ofdmfn\n",
    "\n",
    "from src import unet_model as unet\n",
    "from src.time_proc import long_window\n",
    "\n",
    "get_sinr = lambda s, i: 10*np.log10(np.mean(np.abs(s)**2)/np.mean(np.abs(i)**2))\n",
    "get_pow = lambda s: np.mean(np.abs(s)**2)"
   ]
  },
  {
   "cell_type": "markdown",
   "metadata": {},
   "source": [
    "---"
   ]
  },
  {
   "cell_type": "code",
   "execution_count": 3,
   "metadata": {},
   "outputs": [],
   "source": [
    "def eval_qpsk_demod(sig_est, sig_true, start_idx):\n",
    "    qpsk_sig_idx = 16 - start_idx%16\n",
    "    bit_est = rfcutils.matched_filter_demod(sig_est[qpsk_sig_idx:])\n",
    "    bit_true = rfcutils.matched_filter_demod(sig_true[qpsk_sig_idx:])\n",
    "    ber = np.sum(bit_est != bit_true)/len(bit_true)\n",
    "    assert len(bit_est) == len(bit_true)\n",
    "    return ber\n",
    "\n",
    "def eval_sigs(sig_est, sig_true, start_idx):\n",
    "    mse = get_pow(sig_est - sig_true)\n",
    "    mse_db = 10*np.log10(mse)\n",
    "    sdr = get_sinr(sig_true, sig_est-sig_true)\n",
    "    ber = eval_qpsk_demod(sig_est, sig_true, start_idx)\n",
    "    return (mse, mse_db, sdr, ber)"
   ]
  },
  {
   "cell_type": "markdown",
   "metadata": {},
   "source": [
    "## Load Data"
   ]
  },
  {
   "cell_type": "code",
   "execution_count": 30,
   "metadata": {},
   "outputs": [],
   "source": [
    "all_sig_mixture, all_sig1, all_sig2, all_sync_idx2, all_sig1_syms, all_sig1_bits, all_start_idx2 = pickle.load(open('dataset/Ex3C3_QPSK_OFDMQAM16.pickle','rb'))\n",
    "all_val_sig_mixture, all_val_sig1, all_val_sig2, all_val_sync_idx2, all_val_sig1_syms, all_val_sig1_bits, all_val_start_idx2 = pickle.load(open('dataset/Ex3C3_ValSet_QPSK_OFDMQAM16.pickle','rb'))\n"
   ]
  },
  {
   "cell_type": "markdown",
   "metadata": {},
   "source": [
    "## Parameters"
   ]
  },
  {
   "cell_type": "code",
   "execution_count": 31,
   "metadata": {},
   "outputs": [],
   "source": [
    "sig_len_qpsk = 40960 # This is equal to 40960*6/8. Needed for the decimation\n",
    "all_sinr = np.arange(-30, 4, 1.5)\n",
    "random.seed(3)\n",
    "np.random.seed(3)\n",
    "tf.random.set_seed(3)\n",
    "n_per_sinr_tr = 1000\n",
    "n_per_sinr_val = 100\n",
    "training_examples = 900\n",
    "val_examples = 100\n",
    "target_snr = 10\n",
    "window_len = 40960\n",
    "seg_len = 0\n"
   ]
  },
  {
   "cell_type": "markdown",
   "metadata": {},
   "source": [
    "## Process data"
   ]
  },
  {
   "cell_type": "code",
   "execution_count": 39,
   "metadata": {},
   "outputs": [
    {
     "name": "stderr",
     "output_type": "stream",
     "text": [
      "100%|██████████| 23/23 [01:15<00:00,  3.28s/it]\n",
      "100%|██████████| 23/23 [00:08<00:00,  2.73it/s]\n"
     ]
    }
   ],
   "source": [
    "all_sig_mixture_w, all_sig1_w, all_sig2_w = [], [] , []\n",
    "for j in tqdm(np.arange(len(all_sinr))):\n",
    "    for i in range(training_examples):\n",
    "        target_sinr = all_sinr[j]\n",
    "        start_idx2 = np.array(all_sync_idx2[j*n_per_sinr_tr + i])\n",
    "        all_sig1_ex = np.array(all_sig1[j*n_per_sinr_tr + i])\n",
    "        sig1 = all_sig1_ex[:window_len]\n",
    "        all_sig2_ex = np.array(all_sig2[j*n_per_sinr_tr + i])\n",
    "        sig2 = all_sig2_ex[:window_len]\n",
    "        tau_b = (80 - start_idx2%80)%80\n",
    "        \n",
    "        CNnoise = np.empty(sig1.shape, dtype=np.complex128)\n",
    "        CNnoise.real = np.random.normal(size=sig1.shape)/np.sqrt(2)\n",
    "        CNnoise.imag = np.random.normal(size=sig1.shape)/np.sqrt(2)\n",
    "        \n",
    "        coeff = np.sqrt(np.mean(np.abs(sig1)**2)/(np.mean(np.abs(sig2)**2)*(10**(target_sinr/10))))\n",
    "        coeff_noise = np.sqrt(np.mean(np.abs(sig1)**2)/(np.mean(np.abs(CNnoise)**2)*(10**(target_snr/10))))\n",
    "\n",
    "        sig_mixture = sig1 + sig2 * coeff + CNnoise * coeff_noise        \n",
    "        \n",
    "        all_sig_mixture_w.append(sig_mixture)\n",
    "        all_sig1_w.append(sig1)\n",
    "\n",
    "for j in tqdm(np.arange(len(all_sinr))):\n",
    "    for i in range(val_examples):\n",
    "        target_sinr = all_sinr[j]\n",
    "        start_idx2 = np.array(all_val_sync_idx2[j*n_per_sinr_val + i])\n",
    "        all_sig1_ex = np.array(all_val_sig1[j*n_per_sinr_val + i])\n",
    "        sig1 = all_sig1_ex[:window_len]\n",
    "        all_sig2_ex = np.array(all_val_sig2[j*n_per_sinr_val + i])\n",
    "        sig2 = all_sig2_ex[:window_len]\n",
    "        tau_b = (80 - start_idx2%80)%80\n",
    "        \n",
    "        CNnoise = np.empty(sig1.shape, dtype=np.complex128)\n",
    "        CNnoise.real = np.random.normal(size=sig1.shape)/np.sqrt(2)\n",
    "        CNnoise.imag = np.random.normal(size=sig1.shape)/np.sqrt(2)\n",
    "        \n",
    "        coeff = np.sqrt(np.mean(np.abs(sig1)**2)/(np.mean(np.abs(sig2)**2)*(10**(target_sinr/10))))\n",
    "        coeff_noise = np.sqrt(np.mean(np.abs(sig1)**2)/(np.mean(np.abs(CNnoise)**2)*(10**(target_snr/10))))\n",
    "\n",
    "        sig_mixture = sig1 + sig2 * coeff + CNnoise * coeff_noise\n",
    "        \n",
    "        all_sig_mixture_w.append(sig_mixture)\n",
    "        all_sig1_w.append(sig1)\n",
    "        \n",
    "all_sig_mixture_w = np.array(all_sig_mixture_w)\n",
    "all_sig1_w = np.array(all_sig1_w)"
   ]
  },
  {
   "cell_type": "markdown",
   "metadata": {},
   "source": [
    "## Train"
   ]
  },
  {
   "cell_type": "code",
   "execution_count": null,
   "metadata": {},
   "outputs": [
    {
     "name": "stdout",
     "output_type": "stream",
     "text": [
      "Training ofdm_40960_K101_XL_TS1000_sync_4in_noisy_10_m0\n",
      "Epoch 1/2000\n",
      "646/647 [============================>.] - ETA: 0s - loss: 0.3396"
     ]
    }
   ],
   "source": [
    "sig1_out = all_sig1_w.reshape(-1,window_len)\n",
    "out1_comp = np.dstack((sig1_out.real, sig1_out.imag))\n",
    "\n",
    "all_mixture_seg = long_window(all_sig_mixture_w, window_len, seg_len)\n",
    "mixture_bands_comp = np.dstack((all_mixture_seg.real, all_mixture_seg.imag))\n",
    "\n",
    "mixture_input_nn = np.dstack((mixture_bands_comp, mixture_bands_comp))\n",
    "\n",
    "print(f'Output shape: {out1_comp.shape}; Input shape: {mixture_input_nn.shape}')\n",
    "\n",
    "long_k_sz = 101\n",
    "model_name = f'ofdm_{window_len}_K{long_k_sz}_XL_TS1000_sync_4in_noisy_{target_snr}_m0'\n",
    "print(f'Training {model_name}')\n",
    "nn_model = unet.get_unet_model_XL_4((window_len+seg_len, 4), k_sz=3, long_k_sz=long_k_sz, start_idx=seg_len//2, window_len=window_len)\n",
    "\n",
    "checkpoint_filepath = f'./tmp_checkpoints/ofdm_{window_len}_K{long_k_sz}_XL_TS1000_sync_4in_noisy_{target_snr}_m0'\n",
    "IR_model_checkpoint_callback = tf.keras.callbacks.ModelCheckpoint(\n",
    "    filepath=checkpoint_filepath,\n",
    "    save_weights_only=True,\n",
    "    monitor='val_loss',\n",
    "    mode='min',\n",
    "    save_best_only=True)\n",
    "stop_early = tf.keras.callbacks.EarlyStopping(monitor='val_loss', patience=200)\n",
    "\n",
    "nn_model.fit(mixture_input_nn, out1_comp, epochs=2000, batch_size=32, validation_split=0.1,shuffle=True, verbose=1,callbacks=[stop_early,IR_model_checkpoint_callback])\n"
   ]
  },
  {
   "cell_type": "code",
   "execution_count": null,
   "metadata": {},
   "outputs": [],
   "source": []
  }
 ],
 "metadata": {
  "kernelspec": {
   "display_name": "Python [conda env:.conda-rfsep]",
   "language": "python",
   "name": "conda-env-.conda-rfsep-py"
  },
  "language_info": {
   "codemirror_mode": {
    "name": "ipython",
    "version": 3
   },
   "file_extension": ".py",
   "mimetype": "text/x-python",
   "name": "python",
   "nbconvert_exporter": "python",
   "pygments_lexer": "ipython3",
   "version": "3.7.6"
  }
 },
 "nbformat": 4,
 "nbformat_minor": 4
}
