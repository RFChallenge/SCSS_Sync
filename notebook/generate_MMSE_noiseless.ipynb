{
 "cells": [
  {
   "cell_type": "code",
   "execution_count": null,
   "metadata": {},
   "outputs": [],
   "source": [
    "%load_ext autoreload\n",
    "%autoreload 2\n",
    "\n",
    "import os\n",
    "os.chdir(globals()['_dh'][0])\n",
    "os.chdir('..')\n",
    "print(os.path.abspath(os.curdir))"
   ]
  },
  {
   "cell_type": "code",
   "execution_count": null,
   "metadata": {},
   "outputs": [],
   "source": [
    "import pickle\n",
    "import numpy as np\n",
    "import matplotlib.pyplot as plt\n",
    "import random \n",
    "import tensorflow as tf\n",
    "from tqdm import tqdm\n",
    "from scipy import signal as sg\n",
    "\n",
    "import rfcutils # this corresponds to utility functions provided for the challenge\n",
    "\n",
    "import rfcutils.ofdm_helper_fn_short as ofdmfn\n",
    "\n",
    "from src import cnn_model_delay as cnn_delay\n",
    "\n",
    "get_sinr = lambda s, i: 10*np.log10(np.mean(np.abs(s)**2)/np.mean(np.abs(i)**2))\n",
    "get_pow = lambda s: np.mean(np.abs(s)**2)"
   ]
  },
  {
   "cell_type": "markdown",
   "metadata": {},
   "source": [
    "---"
   ]
  },
  {
   "cell_type": "code",
   "execution_count": null,
   "metadata": {},
   "outputs": [],
   "source": [
    "def eval_qpsk_demod(sig_est, sig_true, start_idx):\n",
    "    qpsk_sig_idx = 16 - start_idx%16\n",
    "    bit_est = rfcutils.matched_filter_demod(sig_est[qpsk_sig_idx:])\n",
    "    bit_true = rfcutils.matched_filter_demod(sig_true[qpsk_sig_idx:])\n",
    "    ber = np.sum(bit_est != bit_true)/len(bit_true)\n",
    "    assert len(bit_est) == len(bit_true)\n",
    "    return ber\n",
    "\n",
    "def eval_sigs(sig_est, sig_true, start_idx):\n",
    "    mse = get_pow(sig_est - sig_true)\n",
    "    mse_db = 10*np.log10(mse)\n",
    "    sdr = get_sinr(sig_true, sig_est-sig_true)\n",
    "    ber = eval_qpsk_demod(sig_est, sig_true, start_idx)\n",
    "    return (mse, mse_db, sdr, ber)"
   ]
  },
  {
   "cell_type": "markdown",
   "metadata": {},
   "source": [
    "## Load models"
   ]
  },
  {
   "cell_type": "code",
   "execution_count": null,
   "metadata": {},
   "outputs": [],
   "source": [
    "long_k_sz = 100\n",
    "window_len_sync = 640\n",
    "model_name = f'sync_mixture_OFDM64_CP16_QPSK_sig_len{window_len_sync}_K{long_k_sz}_V2batch'\n",
    "print(f'Training {model_name}')\n",
    "# input_shape = all_sig_mixture_train_comp.shape[1:]\n",
    "synch_model = cnn_delay.get_cnn_model_delay_new((window_len_sync, 2), vec_delays=80, k_sz=21, long_k_sz=long_k_sz)\n",
    "synch_model.load_weights(f'trained_models/sync_OFDM_model/{model_name}')"
   ]
  },
  {
   "cell_type": "markdown",
   "metadata": {},
   "source": [
    "## CCN-Sync MMSE"
   ]
  },
  {
   "cell_type": "code",
   "execution_count": null,
   "metadata": {},
   "outputs": [],
   "source": [
    "random.seed(10)\n",
    "np.random.seed(10)\n",
    "\n",
    "sig_len = 400\n",
    "core_vec_len = sig_len-80\n",
    "\n",
    "qpsk_dataset, sync_qpsk_dataset, sync2_qpsk_dataset, all_start_idx1 = [], [], [], []\n",
    "for idx in tqdm(range(10000)):\n",
    "    sig1, _, _, _ = rfcutils.generate_qpsk_signal(sig_len//16)\n",
    "    sig1_core = sig1[:core_vec_len]\n",
    "    start_idx1 = 0\n",
    "    \n",
    "    qpsk_dataset.append(sig1) \n",
    "    sync_qpsk_dataset.append(sig1_core)\n",
    "    all_start_idx1.append(start_idx1)\n",
    "\n",
    "\n",
    "ofdm_dataset, sync_ofdm_dataset, sync2_ofdm_dataset, all_start_idx2 = [], [], [], []\n",
    "for idx in tqdm(range(10000)):\n",
    "    data, _, _ = ofdmfn.generate_ofdm_signal(56*(sig_len//80*2))\n",
    "    start_idx2 = np.random.randint(len(data)-sig_len)\n",
    "    sig2 = data[start_idx2:start_idx2+sig_len]\n",
    "    \n",
    "#     sig2_segT_sync = data[start_idx2:start_idx2+window_len_sync]\n",
    "#     sig2_bands_compT_sync = np.dstack((sig2_segT_sync.real, sig2_segT_sync.imag))\n",
    "#     s_idx = np.argmax(synch_model(sig2_bands_compT_sync[:,:window_len_sync,:]))\n",
    "\n",
    "    s_idx = 80 - start_idx2%80\n",
    "    sig2_core = sig2[s_idx:s_idx+core_vec_len]\n",
    "    sig2_core_ext = data[0:sig_len]\n",
    "    ofdm_dataset.append(sig2) \n",
    "    sync_ofdm_dataset.append(sig2_core)\n",
    "    sync2_ofdm_dataset.append(sig2_core_ext)\n",
    "    all_start_idx2.append(start_idx2)\n",
    " \n",
    "qpsk_dataset = np.array(qpsk_dataset)\n",
    "ofdm_dataset = np.array(ofdm_dataset)\n",
    "\n",
    "sync_qpsk_dataset = np.array(sync_qpsk_dataset)\n",
    "sync_ofdm_dataset = np.array(sync_ofdm_dataset)\n",
    "sync2_ofdm_dataset = np.array(sync2_ofdm_dataset)"
   ]
  },
  {
   "cell_type": "code",
   "execution_count": null,
   "metadata": {},
   "outputs": [],
   "source": [
    "cov_qpsk = 1/np.shape(qpsk_dataset)[0]*np.matmul(qpsk_dataset.T, qpsk_dataset.conj())\n",
    "cov_qpsk_sync = 1/np.shape(sync_qpsk_dataset)[0]*np.matmul(sync_qpsk_dataset.T, sync_qpsk_dataset.conj())\n",
    "plt.figure(figsize=(8,8))\n",
    "plt.subplot(121)\n",
    "plt.imshow(np.abs(cov_qpsk))\n",
    "plt.subplot(122)\n",
    "plt.imshow(np.abs(cov_qpsk_sync))\n",
    "# plt.savefig(os.path.join(\"figures\", f\"QPSK_cov1.eps\"), dpi=300)"
   ]
  },
  {
   "cell_type": "code",
   "execution_count": null,
   "metadata": {},
   "outputs": [],
   "source": [
    "cov_ofdm = 1/np.shape(ofdm_dataset)[0]*np.matmul(ofdm_dataset.T, ofdm_dataset.conj())\n",
    "cov_ofdm_sync = 1/np.shape(sync_ofdm_dataset)[0]*np.matmul(sync_ofdm_dataset.T, sync_ofdm_dataset.conj())\n",
    "cov_ofdm_sync_ext = 1/np.shape(sync2_ofdm_dataset)[0]*np.matmul(sync2_ofdm_dataset.T, sync2_ofdm_dataset.conj())\n",
    "\n",
    "plt.figure(figsize=(12,18))\n",
    "plt.subplot(131)\n",
    "plt.imshow(np.abs(cov_ofdm))\n",
    "plt.subplot(132)\n",
    "plt.imshow(np.abs(cov_ofdm_sync))\n",
    "plt.subplot(133)\n",
    "plt.imshow(np.abs(cov_ofdm_sync_ext))\n",
    "# plt.savefig(os.path.join(\"figures\", f\"OFDM_cov1.eps\"), dpi=300)\n"
   ]
  },
  {
   "cell_type": "code",
   "execution_count": null,
   "metadata": {},
   "outputs": [],
   "source": [
    "random.seed(42)\n",
    "np.random.seed(42)\n",
    "n_per_sinr = 1000\n",
    "all_sinr = np.arange(-24,1.5,1.5)\n",
    "\n",
    "all_sig_mixture, all_sig1, all_sig2, all_tau1, all_tau2 = [], [], [], [], []\n",
    "for target_sinr in tqdm(all_sinr):\n",
    "    for idx in range(n_per_sinr):\n",
    "        data, _, _, _ = rfcutils.generate_qpsk_signal(sig_len//16)\n",
    "        tau_s = 0\n",
    "        sig1 = data[0:core_vec_len]\n",
    "        \n",
    "        data, _, _ = ofdmfn.generate_ofdm_signal(56*(window_len_sync//80*2))\n",
    "        start_idx2 = np.random.randint(len(data)-window_len_sync)\n",
    "        sig2 = data[start_idx2:start_idx2+core_vec_len]\n",
    "        \n",
    "        sig2_segT_sync = data[start_idx2:start_idx2+window_len_sync]\n",
    "        sig2_bands_compT_sync = np.dstack((sig2_segT_sync.real, sig2_segT_sync.imag))\n",
    "        tau_b = np.argmax(synch_model(sig2_bands_compT_sync[:,:window_len_sync,:]))\n",
    "        \n",
    "        coeff = np.sqrt(1/(10**(target_sinr/10)))\n",
    "\n",
    "        sig_mixture = sig1 + sig2 * coeff\n",
    "        all_sig_mixture.append(sig_mixture)\n",
    "        all_sig1.append(sig1)\n",
    "        all_sig2.append(sig2*coeff)\n",
    "        \n",
    "        all_tau1.append(tau_s)\n",
    "        all_tau2.append(tau_b)\n",
    "        \n",
    "all_sig_mixture = np.array(all_sig_mixture)\n",
    "all_sig1 = np.array(all_sig1)\n",
    "all_sig2 = np.array(all_sig2)"
   ]
  },
  {
   "cell_type": "code",
   "execution_count": null,
   "metadata": {},
   "outputs": [],
   "source": [
    "all_metric2 = []\n",
    "nn_ber_mmse = []\n",
    "\n",
    "for iidx in tqdm(range(all_sig_mixture.shape[0])):\n",
    "    # initial estimate\n",
    "    sinr = 10**(all_sinr[iidx//n_per_sinr]/10)\n",
    "    \n",
    "    tau_s = all_tau1[iidx] % 16\n",
    "    tau_b = all_tau2[iidx] % 80\n",
    "    Css = cov_qpsk_sync.copy()\n",
    "    Cbb = cov_ofdm_sync_ext[80-tau_b:80-tau_b+core_vec_len, 80-tau_b:80-tau_b+core_vec_len]\n",
    "\n",
    "    scaled_Cbb = Cbb * 1/sinr\n",
    "    Cyy = Css + scaled_Cbb\n",
    "    Csy = Css.copy()\n",
    "\n",
    "    U,S,Vh = np.linalg.svd(Cyy,hermitian=True)\n",
    "    sthr_idx = np.linalg.matrix_rank(Cyy) + 1\n",
    "    Cyy_inv = np.matmul(U[:,:sthr_idx], np.matmul(np.diag(1.0/(S[:sthr_idx])), U[:,:sthr_idx].conj().T))\n",
    "    W = np.matmul(Csy,Cyy_inv)\n",
    "    s_est = np.matmul(W, all_sig_mixture[iidx])\n",
    "    nn_ber_mmse.append((eval_sigs(s_est, all_sig1[iidx], 0))[-1])\n"
   ]
  },
  {
   "cell_type": "code",
   "execution_count": null,
   "metadata": {},
   "outputs": [],
   "source": [
    "nsim_mmse = 1000\n",
    "\n",
    "plt.figure()\n",
    "SIR_values = np.arange(-24, 1.5, 1.5)\n",
    "plt.semilogy(SIR_values,np.array(nn_ber_mmse).reshape(-1,nsim_mmse).mean(axis=-1), 'x-', label='L-MMSE sync')\n",
    "\n",
    "plt.legend()\n",
    "plt.title(\"BER OFDM64 MMSE sync\")\n",
    "plt.xlim(xmax = 0, xmin = -24)\n",
    "plt.ylim(ymax = 1, ymin = 1e-4)\n",
    "plt.grid()\n",
    "# plt.savefig(\"ofdm64_40960_K101_TS1000_syncOFDM_vs_syncQPSK.pdf\")"
   ]
  },
  {
   "cell_type": "markdown",
   "metadata": {},
   "source": [
    "## Save data in csv files"
   ]
  },
  {
   "cell_type": "code",
   "execution_count": null,
   "metadata": {},
   "outputs": [],
   "source": [
    "# Save BER\n",
    "ber_mmse_data = np.stack((SIR_values,np.array(nn_ber_mmse).reshape(-1,nsim_mmse).mean(axis=-1)),axis=1)\n",
    "np.savetxt(\"data/ber_mmse_data.csv\", ber_mmse_data, delimiter=\",\")\n"
   ]
  }
 ],
 "metadata": {
  "kernelspec": {
   "display_name": "Python [conda env:.conda-rfsep]",
   "language": "python",
   "name": "conda-env-.conda-rfsep-py"
  },
  "language_info": {
   "codemirror_mode": {
    "name": "ipython",
    "version": 3
   },
   "file_extension": ".py",
   "mimetype": "text/x-python",
   "name": "python",
   "nbconvert_exporter": "python",
   "pygments_lexer": "ipython3",
   "version": "3.7.6"
  }
 },
 "nbformat": 4,
 "nbformat_minor": 4
}
