{
 "cells": [
  {
   "cell_type": "code",
   "execution_count": null,
   "metadata": {},
   "outputs": [],
   "source": [
    "%load_ext autoreload\n",
    "%autoreload 2\n",
    "\n",
    "import os\n",
    "os.chdir(globals()['_dh'][0])\n",
    "os.chdir('..')\n",
    "print(os.path.abspath(os.curdir))"
   ]
  },
  {
   "cell_type": "code",
   "execution_count": 2,
   "metadata": {},
   "outputs": [
    {
     "name": "stderr",
     "output_type": "stream",
     "text": [
      "2022-08-17 10:15:56.432757: I tensorflow/stream_executor/platform/default/dso_loader.cc:49] Successfully opened dynamic library libcudart.so.11.0\n"
     ]
    }
   ],
   "source": [
    "import pickle\n",
    "import numpy as np\n",
    "import matplotlib.pyplot as plt\n",
    "import random \n",
    "import tensorflow as tf\n",
    "from tensorflow import keras\n",
    "from tqdm import tqdm\n",
    "from scipy import signal as sg\n",
    "# from sklearn.utils import shuffle\n",
    "\n",
    "import rfcutils # this corresponds to utility functions provided for the challenge\n",
    "\n",
    "from src import unet_model as unet\n",
    "from src.time_proc import long_window\n",
    "\n",
    "get_sinr = lambda s, i: 10*np.log10(np.mean(np.abs(s)**2)/np.mean(np.abs(i)**2))\n",
    "get_pow = lambda s: np.mean(np.abs(s)**2)"
   ]
  },
  {
   "cell_type": "markdown",
   "metadata": {},
   "source": [
    "---"
   ]
  },
  {
   "cell_type": "code",
   "execution_count": 3,
   "metadata": {},
   "outputs": [],
   "source": [
    "def eval_qpsk_demod(sig_est, sig_true, start_idx):\n",
    "    qpsk_sig_idx = 16 - start_idx%16\n",
    "    bit_est = rfcutils.matched_filter_demod(sig_est[qpsk_sig_idx:])\n",
    "    bit_true = rfcutils.matched_filter_demod(sig_true[qpsk_sig_idx:])\n",
    "    ber = np.sum(bit_est != bit_true)/len(bit_true)\n",
    "    assert len(bit_est) == len(bit_true)\n",
    "    return ber\n",
    "\n",
    "def eval_sigs(sig_est, sig_true, start_idx):\n",
    "    mse = get_pow(sig_est - sig_true)\n",
    "    mse_db = 10*np.log10(mse)\n",
    "    sdr = get_sinr(sig_true, sig_est-sig_true)\n",
    "    ber = eval_qpsk_demod(sig_est, sig_true, start_idx)\n",
    "    return (mse, mse_db, sdr, ber)"
   ]
  },
  {
   "cell_type": "markdown",
   "metadata": {},
   "source": [
    "## Load Data"
   ]
  },
  {
   "cell_type": "code",
   "execution_count": 4,
   "metadata": {},
   "outputs": [],
   "source": [
    "all_sig_mixture, all_sig1, all_sig2, all_sync_idx2, all_sig1_syms, all_sig1_bits, all_start_idx2 = pickle.load(open('dataset/Ex3C3_QPSK_OFDMQAM16.pickle','rb'))\n",
    "all_val_sig_mixture, all_val_sig1, all_val_sig2, all_val_sync_idx2, all_val_sig1_syms, all_val_sig1_bits, all_val_start_idx2 = pickle.load(open('dataset/Ex3C3_ValSet_QPSK_OFDMQAM16.pickle','rb'))\n"
   ]
  },
  {
   "cell_type": "markdown",
   "metadata": {},
   "source": [
    "## Parameters"
   ]
  },
  {
   "cell_type": "code",
   "execution_count": 5,
   "metadata": {},
   "outputs": [
    {
     "name": "stdout",
     "output_type": "stream",
     "text": [
      "23\n"
     ]
    }
   ],
   "source": [
    "all_sinr = np.arange(-30, 4, 1.5)\n",
    "print(len(all_sinr))\n",
    "n_per_sinr_tr = 1000\n",
    "n_per_sinr_val = 100\n",
    "training_examples = 400\n",
    "val_examples = 100\n",
    "seq_len = 10240\n",
    "window_len = 10240\n",
    "eff_train_ex = int(training_examples*seq_len/window_len)"
   ]
  },
  {
   "cell_type": "markdown",
   "metadata": {},
   "source": [
    "## Process data"
   ]
  },
  {
   "cell_type": "code",
   "execution_count": 6,
   "metadata": {},
   "outputs": [
    {
     "name": "stderr",
     "output_type": "stream",
     "text": [
      "100%|██████████| 23/23 [00:03<00:00,  5.93it/s]\n",
      "100%|██████████| 23/23 [00:00<00:00, 24.39it/s]\n"
     ]
    }
   ],
   "source": [
    "all_sig1_tr_val = []\n",
    "all_mixture_tr_val = []\n",
    "\n",
    "for j in tqdm(np.arange(len(all_sinr))):\n",
    "    for i in range(training_examples):\n",
    "    \n",
    "        all_sig1_ex = np.array(all_sig1[j*n_per_sinr_tr + i])\n",
    "        all_sig1_ex_w = all_sig1_ex[:seq_len]\n",
    "        all_sig2_ex = np.array(all_sig2[j*n_per_sinr_tr + i])\n",
    "        all_sig2_ex_w = all_sig2_ex[:seq_len]\n",
    "        all_sig_mixture_ex = np.array(all_sig_mixture[j*n_per_sinr_tr + i])\n",
    "        all_sig_mixture_ex_w = all_sig_mixture_ex[:seq_len]\n",
    "        \n",
    "        all_sig1_tr_val.append(all_sig1_ex_w)\n",
    "        all_mixture_tr_val.append(all_sig_mixture_ex_w)\n",
    "        \n",
    "        coeff = np.sqrt(np.mean(np.abs(all_sig1_ex_w)**2)/(np.mean(np.abs(all_sig2_ex_w)**2)))\n",
    "  \n",
    "for j in tqdm(np.arange(len(all_sinr))):\n",
    "    for i in range(val_examples):\n",
    "\n",
    "        all_sig1_ex = np.array(all_val_sig1[j*n_per_sinr_val + i])\n",
    "        all_sig1_ex_w = all_sig1_ex[:seq_len]\n",
    "        all_sig2_ex = np.array(all_val_sig2[j*n_per_sinr_val + i])\n",
    "        all_sig2_ex_w = all_sig2_ex[:seq_len]\n",
    "        all_sig_mixture_ex = np.array(all_val_sig_mixture[j*n_per_sinr_val + i])\n",
    "        all_sig_mixture_ex_w = all_sig_mixture_ex[:seq_len]\n",
    "        \n",
    "        all_sig1_tr_val.append(all_sig1_ex_w)\n",
    "        all_mixture_tr_val.append(all_sig_mixture_ex_w)\n",
    "        \n",
    "        coeff = np.sqrt(np.mean(np.abs(all_sig1_ex_w)**2)/(np.mean(np.abs(all_sig2_ex_w)**2)))\n",
    "    \n",
    "all_sig1_tr_val = np.array(all_sig1_tr_val)\n",
    "all_mixture_tr_val = np.array(all_mixture_tr_val)"
   ]
  },
  {
   "cell_type": "markdown",
   "metadata": {},
   "source": [
    "## Train"
   ]
  },
  {
   "cell_type": "code",
   "execution_count": null,
   "metadata": {},
   "outputs": [
    {
     "name": "stdout",
     "output_type": "stream",
     "text": [
      "Output shape: (11500, 10240, 2); Input shape: (11500, 10240, 2)\n",
      "Training qpsk_ofdm64_W10240_TS400_K101\n"
     ]
    },
    {
     "name": "stderr",
     "output_type": "stream",
     "text": [
      "2022-08-17 10:16:34.420503: I tensorflow/compiler/jit/xla_cpu_device.cc:41] Not creating XLA devices, tf_xla_enable_xla_devices not set\n",
      "2022-08-17 10:16:34.421596: I tensorflow/stream_executor/platform/default/dso_loader.cc:49] Successfully opened dynamic library libcuda.so.1\n",
      "2022-08-17 10:16:34.516847: I tensorflow/core/common_runtime/gpu/gpu_device.cc:1720] Found device 0 with properties: \n",
      "pciBusID: 0000:86:00.0 name: Tesla V100-PCIE-32GB computeCapability: 7.0\n",
      "coreClock: 1.38GHz coreCount: 80 deviceMemorySize: 31.75GiB deviceMemoryBandwidth: 836.37GiB/s\n",
      "2022-08-17 10:16:34.516919: I tensorflow/stream_executor/platform/default/dso_loader.cc:49] Successfully opened dynamic library libcudart.so.11.0\n",
      "2022-08-17 10:16:34.521612: I tensorflow/stream_executor/platform/default/dso_loader.cc:49] Successfully opened dynamic library libcublas.so.11\n",
      "2022-08-17 10:16:34.521668: I tensorflow/stream_executor/platform/default/dso_loader.cc:49] Successfully opened dynamic library libcublasLt.so.11\n",
      "2022-08-17 10:16:34.522347: I tensorflow/stream_executor/platform/default/dso_loader.cc:49] Successfully opened dynamic library libcufft.so.10\n",
      "2022-08-17 10:16:34.522565: I tensorflow/stream_executor/platform/default/dso_loader.cc:49] Successfully opened dynamic library libcurand.so.10\n",
      "2022-08-17 10:16:34.523828: I tensorflow/stream_executor/platform/default/dso_loader.cc:49] Successfully opened dynamic library libcusolver.so.10\n",
      "2022-08-17 10:16:34.524441: I tensorflow/stream_executor/platform/default/dso_loader.cc:49] Successfully opened dynamic library libcusparse.so.11\n",
      "2022-08-17 10:16:34.524588: I tensorflow/stream_executor/platform/default/dso_loader.cc:49] Successfully opened dynamic library libcudnn.so.8\n",
      "2022-08-17 10:16:34.525333: I tensorflow/core/common_runtime/gpu/gpu_device.cc:1862] Adding visible gpu devices: 0\n",
      "2022-08-17 10:16:34.526095: I tensorflow/core/platform/cpu_feature_guard.cc:142] This TensorFlow binary is optimized with oneAPI Deep Neural Network Library (oneDNN) to use the following CPU instructions in performance-critical operations:  AVX2 AVX512F FMA\n",
      "To enable them in other operations, rebuild TensorFlow with the appropriate compiler flags.\n",
      "2022-08-17 10:16:34.534025: I tensorflow/compiler/jit/xla_gpu_device.cc:99] Not creating XLA devices, tf_xla_enable_xla_devices not set\n",
      "2022-08-17 10:16:34.534297: I tensorflow/core/common_runtime/gpu/gpu_device.cc:1720] Found device 0 with properties: \n",
      "pciBusID: 0000:86:00.0 name: Tesla V100-PCIE-32GB computeCapability: 7.0\n",
      "coreClock: 1.38GHz coreCount: 80 deviceMemorySize: 31.75GiB deviceMemoryBandwidth: 836.37GiB/s\n",
      "2022-08-17 10:16:34.534321: I tensorflow/stream_executor/platform/default/dso_loader.cc:49] Successfully opened dynamic library libcudart.so.11.0\n",
      "2022-08-17 10:16:34.534340: I tensorflow/stream_executor/platform/default/dso_loader.cc:49] Successfully opened dynamic library libcublas.so.11\n",
      "2022-08-17 10:16:34.534350: I tensorflow/stream_executor/platform/default/dso_loader.cc:49] Successfully opened dynamic library libcublasLt.so.11\n",
      "2022-08-17 10:16:34.534359: I tensorflow/stream_executor/platform/default/dso_loader.cc:49] Successfully opened dynamic library libcufft.so.10\n",
      "2022-08-17 10:16:34.534368: I tensorflow/stream_executor/platform/default/dso_loader.cc:49] Successfully opened dynamic library libcurand.so.10\n",
      "2022-08-17 10:16:34.534378: I tensorflow/stream_executor/platform/default/dso_loader.cc:49] Successfully opened dynamic library libcusolver.so.10\n",
      "2022-08-17 10:16:34.534387: I tensorflow/stream_executor/platform/default/dso_loader.cc:49] Successfully opened dynamic library libcusparse.so.11\n",
      "2022-08-17 10:16:34.534397: I tensorflow/stream_executor/platform/default/dso_loader.cc:49] Successfully opened dynamic library libcudnn.so.8\n",
      "2022-08-17 10:16:34.534693: I tensorflow/core/common_runtime/gpu/gpu_device.cc:1862] Adding visible gpu devices: 0\n",
      "2022-08-17 10:16:34.534718: I tensorflow/stream_executor/platform/default/dso_loader.cc:49] Successfully opened dynamic library libcudart.so.11.0\n",
      "2022-08-17 10:16:35.141125: I tensorflow/core/common_runtime/gpu/gpu_device.cc:1261] Device interconnect StreamExecutor with strength 1 edge matrix:\n",
      "2022-08-17 10:16:35.141153: I tensorflow/core/common_runtime/gpu/gpu_device.cc:1267]      0 \n",
      "2022-08-17 10:16:35.141159: I tensorflow/core/common_runtime/gpu/gpu_device.cc:1280] 0:   N \n",
      "2022-08-17 10:16:35.141865: I tensorflow/core/common_runtime/gpu/gpu_device.cc:1406] Created TensorFlow device (/job:localhost/replica:0/task:0/device:GPU:0 with 30130 MB memory) -> physical GPU (device: 0, name: Tesla V100-PCIE-32GB, pci bus id: 0000:86:00.0, compute capability: 7.0)\n",
      "2022-08-17 10:16:36.078938: I tensorflow/compiler/mlir/mlir_graph_optimization_pass.cc:116] None of the MLIR optimization passes are enabled (registered 2)\n",
      "2022-08-17 10:16:36.104881: I tensorflow/core/platform/profile_utils/cpu_utils.cc:112] CPU Frequency: 2500000000 Hz\n"
     ]
    },
    {
     "name": "stdout",
     "output_type": "stream",
     "text": [
      "Epoch 1/2000\n"
     ]
    },
    {
     "name": "stderr",
     "output_type": "stream",
     "text": [
      "2022-08-17 10:16:37.931336: I tensorflow/stream_executor/platform/default/dso_loader.cc:49] Successfully opened dynamic library libcudnn.so.8\n",
      "2022-08-17 10:16:39.680467: W tensorflow/stream_executor/gpu/asm_compiler.cc:63] Running ptxas --version returned 256\n",
      "2022-08-17 10:16:40.184082: W tensorflow/stream_executor/gpu/redzone_allocator.cc:314] Internal: ptxas exited with non-zero error code 256, output: \n",
      "Relying on driver to perform ptx compilation. \n",
      "Modify $PATH to customize ptxas location.\n",
      "This message will be only logged once.\n",
      "2022-08-17 10:16:48.251165: I tensorflow/stream_executor/platform/default/dso_loader.cc:49] Successfully opened dynamic library libcublas.so.11\n",
      "2022-08-17 10:16:48.615500: I tensorflow/stream_executor/platform/default/dso_loader.cc:49] Successfully opened dynamic library libcublasLt.so.11\n"
     ]
    },
    {
     "name": "stdout",
     "output_type": "stream",
     "text": [
      "287/288 [============================>.] - ETA: 0s - loss: 0.3899"
     ]
    }
   ],
   "source": [
    "sig1_out = all_sig1_tr_val.reshape(-1,window_len)\n",
    "\n",
    "out1_comp = np.dstack((sig1_out.real, sig1_out.imag))\n",
    "\n",
    "sig_mixture_out = all_mixture_tr_val.reshape(-1,window_len)\n",
    "mixture_bands_comp = np.dstack((sig_mixture_out.real, sig_mixture_out.imag))\n",
    "\n",
    "print(f'Output shape: {out1_comp.shape}; Input shape: {mixture_bands_comp.shape}')\n",
    "\n",
    "long_k_sz = 101\n",
    "model_name = f'qpsk_ofdm64_W{window_len}_TS{training_examples}_K{long_k_sz}'\n",
    "print(f'Training {model_name}')\n",
    "nn_model = unet.get_unet_model_XL_2((window_len, 2), k_sz=3, long_k_sz=long_k_sz, start_idx=0, window_len=window_len)\n",
    "# nn_model.load_weights('trained_models/ofdm_40960_K101_XL_TS1000_e300_maskBER05_sync_4in')\n",
    "checkpoint_filepath = f'./tmp_checkpoints/checkpoint_qpsk_ofdm64_W{window_len}_TS{training_examples}_K{long_k_sz}'\n",
    "IR_model_checkpoint_callback = tf.keras.callbacks.ModelCheckpoint(\n",
    "    filepath=checkpoint_filepath,\n",
    "    save_weights_only=True,\n",
    "    monitor='val_loss',\n",
    "    mode='min',\n",
    "    save_best_only=True)\n",
    "stop_early = tf.keras.callbacks.EarlyStopping(monitor='val_loss', patience=200)\n",
    "nn_model.fit(mixture_bands_comp, out1_comp, epochs=2000, batch_size=32, validation_split=0.2,shuffle=True, verbose=1,callbacks=[stop_early,IR_model_checkpoint_callback])"
   ]
  },
  {
   "cell_type": "code",
   "execution_count": null,
   "metadata": {},
   "outputs": [],
   "source": []
  }
 ],
 "metadata": {
  "kernelspec": {
   "display_name": "Python [conda env:.conda-rfsep]",
   "language": "python",
   "name": "conda-env-.conda-rfsep-py"
  },
  "language_info": {
   "codemirror_mode": {
    "name": "ipython",
    "version": 3
   },
   "file_extension": ".py",
   "mimetype": "text/x-python",
   "name": "python",
   "nbconvert_exporter": "python",
   "pygments_lexer": "ipython3",
   "version": "3.7.6"
  }
 },
 "nbformat": 4,
 "nbformat_minor": 4
}
