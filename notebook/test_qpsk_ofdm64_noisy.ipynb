{
 "cells": [
  {
   "cell_type": "code",
   "execution_count": null,
   "metadata": {},
   "outputs": [],
   "source": [
    "%load_ext autoreload\n",
    "%autoreload 2\n",
    "\n",
    "import os\n",
    "os.chdir(globals()['_dh'][0])\n",
    "os.chdir('..')\n",
    "print(os.path.abspath(os.curdir))"
   ]
  },
  {
   "cell_type": "code",
   "execution_count": 2,
   "metadata": {},
   "outputs": [
    {
     "name": "stderr",
     "output_type": "stream",
     "text": [
      "2022-08-17 16:07:50.617323: I tensorflow/stream_executor/platform/default/dso_loader.cc:49] Successfully opened dynamic library libcudart.so.11.0\n"
     ]
    }
   ],
   "source": [
    "import pickle\n",
    "import numpy as np\n",
    "import matplotlib.pyplot as plt\n",
    "import random \n",
    "import tensorflow as tf\n",
    "from tensorflow import keras\n",
    "from tqdm import tqdm\n",
    "from scipy import signal as sg\n",
    "# from sklearn.utils import shuffle\n",
    "\n",
    "import rfcutils # this corresponds to utility functions provided for the challenge\n",
    "\n",
    "from src import unet_model as unet\n",
    "from src import cnn_model_delay as cnn_delay\n",
    "from src.time_proc import long_window\n",
    "\n",
    "get_sinr = lambda s, i: 10*np.log10(np.mean(np.abs(s)**2)/np.mean(np.abs(i)**2))\n",
    "get_pow = lambda s: np.mean(np.abs(s)**2)"
   ]
  },
  {
   "cell_type": "markdown",
   "metadata": {},
   "source": [
    "---"
   ]
  },
  {
   "cell_type": "code",
   "execution_count": 3,
   "metadata": {},
   "outputs": [],
   "source": [
    "def eval_qpsk_demod(sig_est, sig_true, start_idx):\n",
    "    qpsk_sig_idx = 16 - start_idx%16\n",
    "    bit_est = rfcutils.matched_filter_demod(sig_est[qpsk_sig_idx:])\n",
    "    bit_true = rfcutils.matched_filter_demod(sig_true[qpsk_sig_idx:])\n",
    "    ber = np.sum(bit_est != bit_true)/len(bit_true)\n",
    "    assert len(bit_est) == len(bit_true)\n",
    "    return ber\n",
    "\n",
    "def eval_sigs(sig_est, sig_true, start_idx):\n",
    "    mse = get_pow(sig_est - sig_true)\n",
    "    mse_db = 10*np.log10(mse)\n",
    "    sdr = get_sinr(sig_true, sig_est-sig_true)\n",
    "    ber = eval_qpsk_demod(sig_est, sig_true, start_idx)\n",
    "    return (mse, mse_db, sdr, ber)"
   ]
  },
  {
   "cell_type": "markdown",
   "metadata": {},
   "source": [
    "## Load models"
   ]
  },
  {
   "cell_type": "code",
   "execution_count": null,
   "metadata": {},
   "outputs": [],
   "source": [
    "window_len = 40960\n",
    "seg_len = 0\n",
    "long_k_sz = 101\n",
    "n_per_sinr_test = 100\n",
    "target_snr = 10\n",
    "FLAG_NOISE = 0"
   ]
  },
  {
   "cell_type": "code",
   "execution_count": 10,
   "metadata": {},
   "outputs": [
    {
     "name": "stdout",
     "output_type": "stream",
     "text": [
      "WARNING:tensorflow:Unresolved object in checkpoint: (root).optimizer.iter\n",
      "WARNING:tensorflow:Unresolved object in checkpoint: (root).optimizer.beta_1\n",
      "WARNING:tensorflow:Unresolved object in checkpoint: (root).optimizer.beta_2\n",
      "WARNING:tensorflow:Unresolved object in checkpoint: (root).optimizer.decay\n",
      "WARNING:tensorflow:Unresolved object in checkpoint: (root).optimizer.learning_rate\n",
      "WARNING:tensorflow:A checkpoint was restored (e.g. tf.train.Checkpoint.restore or tf.keras.Model.load_weights) but not all checkpointed values were used. See above for specific issues. Use expect_partial() on the load status object, e.g. tf.train.Checkpoint.restore(...).expect_partial(), to silence these warnings, or use assert_consumed() to make the check explicit. See https://www.tensorflow.org/guide/checkpoint#loading_mechanics for details.\n",
      "Loading model for noiseless case\n"
     ]
    }
   ],
   "source": [
    "nn_model = unet.get_unet_model_XL_4((window_len+seg_len, 4), k_sz=3, long_k_sz=long_k_sz, start_idx=seg_len//2, window_len=window_len)\n",
    "\n",
    "if FLAG_NOISE == 1:\n",
    "    print(f'Loading model for SNR {target_snr} dB')\n",
    "    nn_model.load_weights(f'trained_models/noisy/ofdm_{window_len}_K{long_k_sz}_XL_TS1000_sync_4in_noisy_{target_snr}_m0')\n",
    "else:\n",
    "    print(f'Loading model for noiseless case')\n",
    "    nn_model.load_weights(f'trained_models/noisy/ofdm_{window_len}_K{long_k_sz}_XL_TS1000_sync_4in_noiseless_m0')"
   ]
  },
  {
   "cell_type": "markdown",
   "metadata": {},
   "source": [
    "## Generate signals and perform interference rejection"
   ]
  },
  {
   "cell_type": "code",
   "execution_count": 11,
   "metadata": {},
   "outputs": [],
   "source": [
    "all_test_sig_mixture, all_test_sig1, all_test_sig2, all_test_sync_idx2, all_test_sig1_syms, all_test_sig1_bits, all_test_start_idx2 = pickle.load(open('dataset/Ex3D_TestSet_QPSK_OFDMQAM16.pickle','rb'))"
   ]
  },
  {
   "cell_type": "code",
   "execution_count": 12,
   "metadata": {},
   "outputs": [
    {
     "name": "stderr",
     "output_type": "stream",
     "text": [
      "100%|██████████| 23/23 [02:00<00:00,  5.23s/it]\n"
     ]
    }
   ],
   "source": [
    "mf_ber, nn_ber, nn_mse = [], [], []\n",
    "nn_ber_cond, nn_mse_cond = [], []\n",
    "\n",
    "all_sinr = np.arange(-30, 4, 1.5)\n",
    "\n",
    "for j in tqdm(np.arange(len(all_sinr))):\n",
    "    for i in range(n_per_sinr_test):\n",
    "                \n",
    "        sig1_ex = np.array(all_test_sig1[j*n_per_sinr_test + i])\n",
    "        sig2_ex = np.array(all_test_sig2[j*n_per_sinr_test + i])\n",
    "        sig_mixture_ex = np.array(all_test_sig_mixture[j*n_per_sinr_test + i])\n",
    "        \n",
    "        if FLAG_NOISE == 1:\n",
    "            CNnoise = np.empty(sig_mixture_ex[:window_len].shape, dtype=np.complex128)\n",
    "            CNnoise.real = np.random.normal(size=sig_mixture_ex[:window_len].shape)/np.sqrt(2)\n",
    "            CNnoise.imag = np.random.normal(size=sig_mixture_ex[:window_len].shape)/np.sqrt(2)\n",
    "            coeff_noise = np.sqrt(np.mean(np.abs(sig1_ex[:window_len])**2)/(np.mean(np.abs(CNnoise)**2)*(10**(target_snr/10))))\n",
    "        else:\n",
    "            CNnoise = 0\n",
    "            coeff_noise = 0\n",
    "            \n",
    "        sig1 = sig1_ex[:window_len]\n",
    "        sig2 = sig2_ex[:window_len]\n",
    "        sig_mixture = sig_mixture_ex[:window_len] + CNnoise * coeff_noise\n",
    "\n",
    "        mf_ber.append((eval_sigs(sig1, sig_mixture, 0))[-1])\n",
    "\n",
    "        mixture_segT = long_window(sig_mixture.reshape(1,-1), window_len, seg_len)\n",
    "        mixture_bands_compT = np.dstack((mixture_segT.real, mixture_segT.imag))\n",
    "        \n",
    "        mixture_bands_doubled = np.dstack((mixture_bands_compT, mixture_bands_compT))\n",
    "        \n",
    "        out1_est = nn_model(mixture_bands_doubled).numpy()\n",
    "\n",
    "        sig1_est = (out1_est[:,:,0] + 1j*out1_est[:,:,1]).flatten()\n",
    "\n",
    "        nn_ber.append((eval_sigs(sig1_est, sig1, 0))[-1])\n",
    "        nn_mse.append((eval_sigs(sig1_est, sig1, 0))[1])\n",
    "        \n",
    "        \n",
    "        \n"
   ]
  },
  {
   "cell_type": "code",
   "execution_count": 13,
   "metadata": {},
   "outputs": [
    {
     "data": {
      "text/plain": [
       "(-24.0, 0.0)"
      ]
     },
     "execution_count": 13,
     "metadata": {},
     "output_type": "execute_result"
    },
    {
     "data": {
      "image/png": "[encoded data removed]",
      "text/plain": [
       "<Figure size 432x288 with 1 Axes>"
      ]
     },
     "metadata": {
      "needs_background": "light"
     },
     "output_type": "display_data"
    },
    {
     "data": {
      "image/png": "[encoded data removed]",
      "text/plain": [
       "<Figure size 432x288 with 1 Axes>"
      ]
     },
     "metadata": {
      "needs_background": "light"
     },
     "output_type": "display_data"
    }
   ],
   "source": [
    "plt.figure()\n",
    "nsim = n_per_sinr_test\n",
    "plt.semilogy(all_sinr,np.array(nn_ber).reshape(-1,nsim).mean(axis=-1), 'x-', label='UNet-2')\n",
    "plt.semilogy(all_sinr,np.array(mf_ber).reshape(-1,nsim).mean(axis=-1), 'x-', label='Matched filter')\n",
    "\n",
    "plt.legend()\n",
    "plt.title(f'BER QPSK + ofdm64 (SNR {target_snr} window length {window_len})')\n",
    "plt.xlim(xmax = 0, xmin = -24)\n",
    "plt.ylim(ymax = 1, ymin = 1e-4)\n",
    "plt.grid()\n",
    "# plt.savefig(f'qpsk_ofdm64_ber_sync_nopad_train_{window_len}_TS_{training_examples}_cond_1.pdf')\n",
    "\n",
    "plt.figure()\n",
    "SIR_values = np.arange(-24, 1.5, 1.5)\n",
    "plt.plot(all_sinr,np.array(nn_mse).reshape(-1,nsim).mean(axis=-1), 'x-', label='UNet-2')\n",
    "\n",
    "plt.legend()\n",
    "plt.title(f'MSE QPSK + ofdm64 (SNR {target_snr} window length {window_len})')\n",
    "plt.xlim(xmax = 0, xmin = -24)\n",
    "# plt.ylim(ymax = 1, ymin = 1e-5)\n",
    "# plt.savefig(f'qpsk_ofdm64_mse_sync_nopad_train_{window_len}_TS_{training_examples}_cond_1.pdf')"
   ]
  },
  {
   "cell_type": "code",
   "execution_count": 22,
   "metadata": {},
   "outputs": [],
   "source": [
    "# Save BER\n",
    "nn_ber_data = np.stack((all_sinr,np.array(nn_ber).reshape(-1,nsim).mean(axis=-1)),axis=1)\n",
    "np.savetxt(f'data/ber_nn_noisy_SNR_{target_snr}.csv', nn_ber_data, delimiter=\",\")\n",
    "\n",
    "# Save MSE:\n",
    "nn_mse_cond_data = np.stack((all_sinr,np.array(nn_mse_cond).reshape(-1,nsim).mean(axis=-1)),axis=1)\n",
    "np.savetxt(f'data/mse_nn_noisy_SNR_{target_snr}.csv', nn_mse_data, delimiter=\",\")\n"
   ]
  }
 ],
 "metadata": {
  "kernelspec": {
   "display_name": "Python [conda env:.conda-rfsep]",
   "language": "python",
   "name": "conda-env-.conda-rfsep-py"
  },
  "language_info": {
   "codemirror_mode": {
    "name": "ipython",
    "version": 3
   },
   "file_extension": ".py",
   "mimetype": "text/x-python",
   "name": "python",
   "nbconvert_exporter": "python",
   "pygments_lexer": "ipython3",
   "version": "3.7.6"
  }
 },
 "nbformat": 4,
 "nbformat_minor": 4
}
