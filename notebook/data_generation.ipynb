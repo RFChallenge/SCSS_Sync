{
 "cells": [
  {
   "cell_type": "code",
   "execution_count": null,
   "metadata": {},
   "outputs": [],
   "source": [
    "%load_ext autoreload\n",
    "%autoreload 2\n",
    "\n",
    "import os\n",
    "os.chdir(globals()['_dh'][0])\n",
    "os.chdir('..')\n",
    "print(os.path.abspath(os.curdir))"
   ]
  },
  {
   "cell_type": "code",
   "execution_count": null,
   "metadata": {},
   "outputs": [],
   "source": [
    "import numpy as np\n",
    "import matplotlib.pyplot as plt\n",
    "from tqdm import tqdm\n",
    "import time\n",
    "import pickle\n",
    "from tqdm import tqdm\n",
    "\n",
    "import rfcutils\n",
    "\n",
    "import rfcutils.qpsk_helper_fn as qpskfn\n",
    "import rfcutils.qam16_helper_fn as qam16fn\n",
    "import rfcutils.ofdm_helper_fn as ofdmfn\n",
    "\n",
    "get_pow = lambda s: np.mean(np.abs(s)**2)\n",
    "get_sinr = lambda s, i: 10*np.log10(get_pow(s)/get_pow(i))"
   ]
  },
  {
   "cell_type": "markdown",
   "metadata": {},
   "source": [
    "## Dataset 3C: QPSK (16x oversampling) + OFDM (QAM16 Subcarriers)"
   ]
  },
  {
   "cell_type": "code",
   "execution_count": null,
   "metadata": {},
   "outputs": [],
   "source": [
    "from commpy.modulation import PSKModem, QAMModem\n",
    "mod = QAMModem(16)"
   ]
  },
  {
   "cell_type": "code",
   "execution_count": null,
   "metadata": {},
   "outputs": [],
   "source": [
    "import random\n",
    "random.seed(0)\n",
    "np.random.seed(0)"
   ]
  },
  {
   "cell_type": "code",
   "execution_count": null,
   "metadata": {},
   "outputs": [],
   "source": [
    "sig_len = 40960"
   ]
  },
  {
   "cell_type": "code",
   "execution_count": null,
   "metadata": {},
   "outputs": [],
   "source": [
    "all_sinr = np.arange(-30, 4, 1.5)\n",
    "n_per_sinr = 1000\n",
    "# n_per_sinr = 4000\n",
    "# n_per_sinr = 8000\n",
    "\n",
    "all_sig_mixture, all_sig1, all_sig2, all_sync_idx2, all_sig1_syms, all_sig1_bits, all_start_idx2 = [], [], [], [], [], [], []\n",
    "\n",
    "\n",
    "for target_sinr in tqdm(all_sinr):\n",
    "    for idx in range(n_per_sinr):\n",
    "        sig1, _, sQ1, sB1 = qpskfn.generate_qpsk_signal(sig_len//qpskfn.oversample_factor)\n",
    "        start_idx1 = 0\n",
    "        \n",
    "        data2, _, _ = ofdmfn.generate_ofdm_signal((sig_len//ofdmfn.ofdm_sym_len + 10)*ofdmfn.nsc, mod=mod)\n",
    "        start_idx2 = np.random.randint(len(data2)-sig_len)\n",
    "        sig2 = data2[start_idx2:start_idx2+sig_len]\n",
    "\n",
    "        coeff = np.sqrt(1/(np.mean(np.abs(sig2)**2)*(10**(target_sinr/10))))\n",
    "        # coeff *= np.exp(1j*2*np.pi*np.random.rand())\n",
    "        \n",
    "        sig_mixture = sig1 + sig2 * coeff\n",
    "        all_sig_mixture.append(sig_mixture)\n",
    "        all_sig1.append(sig1)\n",
    "        all_sig1_syms.append(sQ1)\n",
    "        all_sig1_bits.append(sB1)\n",
    "        all_sig2.append(sig2*coeff)\n",
    "        \n",
    "        all_start_idx2.append(start_idx2)\n",
    "        sync_idx2 = (80-start_idx2%80)%80\n",
    "        all_sync_idx2.append(sync_idx2)"
   ]
  },
  {
   "cell_type": "code",
   "execution_count": null,
   "metadata": {},
   "outputs": [],
   "source": [
    "pickle.dump((all_sig_mixture, all_sig1, all_sig2, all_sync_idx2, all_sig1_syms, all_sig1_bits, all_start_idx2), open('dataset/Ex3D_QPSK_OFDMQAM16.pickle','wb'), protocol=4)"
   ]
  },
  {
   "cell_type": "code",
   "execution_count": null,
   "metadata": {},
   "outputs": [],
   "source": [
    "all_sinr = np.arange(-30, 4, 1.5)\n",
    "n_per_sinr = 100\n",
    "# n_per_sinr = 4000\n",
    "# n_per_sinr = 8000\n",
    "\n",
    "all_sig_mixture, all_sig1, all_sig2, all_sync_idx2, all_sig1_syms, all_sig1_bits, all_start_idx2 = [], [], [], [], [], [], []\n",
    "\n",
    "\n",
    "for target_sinr in tqdm(all_sinr):\n",
    "    for idx in range(n_per_sinr):\n",
    "        sig1, _, sQ1, sB1 = qpskfn.generate_qpsk_signal(sig_len//qpskfn.oversample_factor)\n",
    "        start_idx1 = 0\n",
    "        \n",
    "        data2, _, _ = ofdmfn.generate_ofdm_signal((sig_len//ofdmfn.ofdm_sym_len + 10)*ofdmfn.nsc, mod=mod)\n",
    "        start_idx2 = np.random.randint(len(data2)-sig_len)\n",
    "        sig2 = data2[start_idx2:start_idx2+sig_len]\n",
    "\n",
    "        coeff = np.sqrt(1/(np.mean(np.abs(sig2)**2)*(10**(target_sinr/10))))\n",
    "        # coeff *= np.exp(1j*2*np.pi*np.random.rand())\n",
    "        \n",
    "        sig_mixture = sig1 + sig2 * coeff\n",
    "        all_sig_mixture.append(sig_mixture)\n",
    "        all_sig1.append(sig1)\n",
    "        all_sig1_syms.append(sQ1)\n",
    "        all_sig1_bits.append(sB1)\n",
    "        all_sig2.append(sig2*coeff)\n",
    "        \n",
    "        all_start_idx2.append(start_idx2)\n",
    "        sync_idx2 = (80-start_idx2%80)%80\n",
    "        all_sync_idx2.append(sync_idx2)"
   ]
  },
  {
   "cell_type": "code",
   "execution_count": null,
   "metadata": {},
   "outputs": [],
   "source": [
    "# pickle.dump((all_sig_mixture, all_sig1, all_sig2, all_sync_idx2, all_sig1_syms, all_sig1_bits, all_start_idx2), open('dataset/Ex3CXL_QPSK_OFDMQAM16.pickle','wb'), protocol=4)"
   ]
  },
  {
   "cell_type": "code",
   "execution_count": null,
   "metadata": {},
   "outputs": [],
   "source": [
    "pickle.dump((all_sig_mixture, all_sig1, all_sig2, all_sync_idx2, all_sig1_syms, all_sig1_bits, all_start_idx2), open('dataset/Ex3D_ValSet_QPSK_OFDMQAM16.pickle','wb'), protocol=4)"
   ]
  },
  {
   "cell_type": "code",
   "execution_count": null,
   "metadata": {},
   "outputs": [],
   "source": [
    "all_sinr = np.arange(-30, 4, 1.5)\n",
    "n_per_sinr = 100\n",
    "\n",
    "all_sig_mixture, all_sig1, all_sig2, all_sync_idx2, all_sig1_syms, all_sig1_bits, all_start_idx2 = [], [], [], [], [], [], []\n",
    "\n",
    "\n",
    "for target_sinr in tqdm(all_sinr):\n",
    "    for idx in range(n_per_sinr):\n",
    "        sig1, _, sQ1, sB1 = qpskfn.generate_qpsk_signal(sig_len//qpskfn.oversample_factor)\n",
    "        start_idx1 = 0\n",
    "        \n",
    "        data2, _, _ = ofdmfn.generate_ofdm_signal((sig_len//ofdmfn.ofdm_sym_len + 10)*ofdmfn.nsc, mod=mod)\n",
    "        start_idx2 = np.random.randint(len(data2)-sig_len)\n",
    "        sig2 = data2[start_idx2:start_idx2+sig_len]\n",
    "\n",
    "        coeff = np.sqrt(1/(np.mean(np.abs(sig2)**2)*(10**(target_sinr/10))))\n",
    "        # coeff *= np.exp(1j*2*np.pi*np.random.rand())\n",
    "        \n",
    "        sig_mixture = sig1 + sig2 * coeff\n",
    "        all_sig_mixture.append(sig_mixture)\n",
    "        all_sig1.append(sig1)\n",
    "        all_sig1_syms.append(sQ1)\n",
    "        all_sig1_bits.append(sB1)\n",
    "        all_sig2.append(sig2*coeff)\n",
    "        \n",
    "        all_start_idx2.append(start_idx2)\n",
    "        sync_idx2 = (80-start_idx2%80)%80\n",
    "        all_sync_idx2.append(sync_idx2)"
   ]
  },
  {
   "cell_type": "code",
   "execution_count": null,
   "metadata": {},
   "outputs": [],
   "source": [
    "pickle.dump((all_sig_mixture, all_sig1, all_sig2, all_sync_idx2, all_sig1_syms, all_sig1_bits, all_start_idx2), open('dataset/Ex3D_TestSet_QPSK_OFDMQAM16.pickle','wb'), protocol=4)"
   ]
  },
  {
   "cell_type": "code",
   "execution_count": null,
   "metadata": {},
   "outputs": [],
   "source": []
  }
 ],
 "metadata": {
  "kernelspec": {
   "display_name": "Python [conda env:.conda-rfsep]",
   "language": "python",
   "name": "conda-env-.conda-rfsep-py"
  },
  "language_info": {
   "codemirror_mode": {
    "name": "ipython",
    "version": 3
   },
   "file_extension": ".py",
   "mimetype": "text/x-python",
   "name": "python",
   "nbconvert_exporter": "python",
   "pygments_lexer": "ipython3",
   "version": "3.7.6"
  }
 },
 "nbformat": 4,
 "nbformat_minor": 4
}
