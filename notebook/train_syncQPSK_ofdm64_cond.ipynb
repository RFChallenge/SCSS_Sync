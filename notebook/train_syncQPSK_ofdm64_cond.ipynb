{
 "cells": [
  {
   "cell_type": "code",
   "execution_count": null,
   "metadata": {},
   "outputs": [],
   "source": [
    "%load_ext autoreload\n",
    "%autoreload 2\n",
    "\n",
    "import os\n",
    "os.chdir(globals()['_dh'][0])\n",
    "os.chdir('..')\n",
    "print(os.path.abspath(os.curdir))"
   ]
  },
  {
   "cell_type": "code",
   "execution_count": null,
   "metadata": {},
   "outputs": [],
   "source": [
    "import pickle\n",
    "import numpy as np\n",
    "import matplotlib.pyplot as plt\n",
    "import random \n",
    "import tensorflow as tf\n",
    "from tensorflow import keras\n",
    "from tqdm import tqdm\n",
    "from scipy import signal as sg\n",
    "# from sklearn.utils import shuffle\n",
    "\n",
    "import rfcutils # this corresponds to utility functions provided for the challenge\n",
    "\n",
    "from src import unet_model as unet\n",
    "from src.time_proc import long_window\n",
    "\n",
    "get_sinr = lambda s, i: 10*np.log10(np.mean(np.abs(s)**2)/np.mean(np.abs(i)**2))\n",
    "get_pow = lambda s: np.mean(np.abs(s)**2)"
   ]
  },
  {
   "cell_type": "markdown",
   "metadata": {},
   "source": [
    "---"
   ]
  },
  {
   "cell_type": "code",
   "execution_count": null,
   "metadata": {},
   "outputs": [],
   "source": [
    "def eval_qpsk_demod(sig_est, sig_true, start_idx):\n",
    "    qpsk_sig_idx = 16 - start_idx%16\n",
    "    bit_est = rfcutils.matched_filter_demod(sig_est[qpsk_sig_idx:])\n",
    "    bit_true = rfcutils.matched_filter_demod(sig_true[qpsk_sig_idx:])\n",
    "    ber = np.sum(bit_est != bit_true)/len(bit_true)\n",
    "    assert len(bit_est) == len(bit_true)\n",
    "    return ber\n",
    "\n",
    "def eval_sigs(sig_est, sig_true, start_idx):\n",
    "    mse = get_pow(sig_est - sig_true)\n",
    "    mse_db = 10*np.log10(mse)\n",
    "    sdr = get_sinr(sig_true, sig_est-sig_true)\n",
    "    ber = eval_qpsk_demod(sig_est, sig_true, start_idx)\n",
    "    return (mse, mse_db, sdr, ber)"
   ]
  },
  {
   "cell_type": "markdown",
   "metadata": {},
   "source": [
    "## Load Data"
   ]
  },
  {
   "cell_type": "code",
   "execution_count": null,
   "metadata": {},
   "outputs": [],
   "source": [
    "all_sig_mixture, all_sig1, all_sig2, all_sync_idx2, all_sig1_syms, all_sig1_bits, all_start_idx2 = pickle.load(open('dataset/Ex3C3_QPSK_OFDMQAM16.pickle','rb'))\n",
    "all_val_sig_mixture, all_val_sig1, all_val_sig2, all_val_sync_idx2, all_val_sig1_syms, all_val_sig1_bits, all_val_start_idx2 = pickle.load(open('dataset/Ex3C3_ValSet_QPSK_OFDMQAM16.pickle','rb'))\n"
   ]
  },
  {
   "cell_type": "markdown",
   "metadata": {},
   "source": [
    "## Parameters"
   ]
  },
  {
   "cell_type": "code",
   "execution_count": null,
   "metadata": {},
   "outputs": [],
   "source": [
    "shift = 1\n",
    "print(f'Shift = {shift}')\n",
    "\n",
    "# Other parameters\n",
    "all_sinr = np.arange(-30, 4, 1.5)\n",
    "n_per_sinr_tr = 1000\n",
    "n_per_sinr_val = 100\n",
    "training_examples = 400\n",
    "val_examples = 100\n",
    "seq_len = 10240\n",
    "window_len = 10240\n",
    "eff_train_ex = int(training_examples*seq_len/window_len)"
   ]
  },
  {
   "cell_type": "markdown",
   "metadata": {},
   "source": [
    "## Process data"
   ]
  },
  {
   "cell_type": "code",
   "execution_count": null,
   "metadata": {},
   "outputs": [],
   "source": [
    "all_sig1_tr_val = []\n",
    "all_mixture_tr_val = []\n",
    "\n",
    "for j in tqdm(np.arange(len(all_sinr))):\n",
    "    for i in range(training_examples):\n",
    "    \n",
    "        start_idx2 = np.array(all_sync_idx2[j*n_per_sinr_tr + i])\n",
    "        all_sig1_ex = np.array(all_sig1[j*n_per_sinr_tr + i])\n",
    "        all_sig1_ex_w = all_sig1_ex[start_idx2+shift:seq_len+start_idx2+shift]\n",
    "        all_sig2_ex = np.array(all_sig2[j*n_per_sinr_tr + i])\n",
    "        all_sig2_ex_w = all_sig2_ex[start_idx2+shift:seq_len+start_idx2+shift]\n",
    "        all_sig_mixture_ex = np.array(all_sig_mixture[j*n_per_sinr_tr + i])\n",
    "        all_sig_mixture_ex_w = all_sig_mixture_ex[start_idx2+shift:seq_len+start_idx2+shift]\n",
    "        \n",
    "        \n",
    "        all_sig1_tr_val.append(all_sig1_ex_w)\n",
    "        all_mixture_tr_val.append(all_sig_mixture_ex_w)\n",
    "  \n",
    "for j in tqdm(np.arange(len(all_sinr))):\n",
    "    for i in range(val_examples):\n",
    "        \n",
    "        start_idx2 = np.array(all_val_sync_idx2[j*n_per_sinr_val + i])\n",
    "        all_sig1_ex = np.array(all_val_sig1[j*n_per_sinr_val + i])\n",
    "        all_sig1_ex_w = all_sig1_ex[start_idx2+shift:seq_len+start_idx2+shift]\n",
    "        all_sig2_ex = np.array(all_val_sig2[j*n_per_sinr_val + i])\n",
    "        all_sig2_ex_w = all_sig2_ex[start_idx2+shift:seq_len+start_idx2+shift]\n",
    "        all_sig_mixture_ex = np.array(all_val_sig_mixture[j*n_per_sinr_val + i])\n",
    "        all_sig_mixture_ex_w = all_sig_mixture_ex[start_idx2+shift:seq_len+start_idx2+shift]\n",
    "        \n",
    "        all_sig1_tr_val.append(all_sig1_ex_w)\n",
    "        all_mixture_tr_val.append(all_sig_mixture_ex_w)\n",
    "\n",
    "all_sig1_tr_val = np.array(all_sig1_tr_val)\n",
    "all_mixture_tr_val = np.array(all_mixture_tr_val)"
   ]
  },
  {
   "cell_type": "markdown",
   "metadata": {},
   "source": [
    "## Train"
   ]
  },
  {
   "cell_type": "code",
   "execution_count": null,
   "metadata": {},
   "outputs": [],
   "source": [
    "# window_len = all_mixture_tr_val.shape[1]\n",
    "\n",
    "sig1_out = all_sig1_tr_val.reshape(-1,window_len)\n",
    "\n",
    "out1_comp = np.dstack((sig1_out.real, sig1_out.imag))\n",
    "\n",
    "sig_mixture_out = all_mixture_tr_val.reshape(-1,window_len)\n",
    "mixture_bands_comp = np.dstack((sig_mixture_out.real, sig_mixture_out.imag))\n",
    "\n",
    "print(f'Output shape: {out1_comp.shape}; Input shape: {mixture_bands_comp.shape}')\n",
    "\n",
    "long_k_sz = 101\n",
    "model_name = f'qpsk_ofdm64_W{window_len}_TS{eff_train_ex}_K{long_k_sz}_S{shift}'\n",
    "print(f'Training {model_name}')\n",
    "nn_model = unet.get_unet_model_XL_2((window_len, 2), k_sz=3, long_k_sz=long_k_sz, start_idx=0, window_len=window_len)\n",
    "# nn_model.load_weights('trained_models/ofdm_40960_K101_XL_TS1000_e300_maskBER05_sync_4in')\n",
    "checkpoint_filepath = f'./tmp_checkpoints/checkpoint_qpsk_ofdm64_W{window_len}_TS{eff_train_ex}_K{long_k_sz}_S{shift}'\n",
    "IR_model_checkpoint_callback = tf.keras.callbacks.ModelCheckpoint(\n",
    "    filepath=checkpoint_filepath,\n",
    "    save_weights_only=True,\n",
    "    monitor='val_loss',\n",
    "    mode='min',\n",
    "    save_best_only=True)\n",
    "stop_early = tf.keras.callbacks.EarlyStopping(monitor='val_loss', patience=200)\n",
    "nn_model.fit(mixture_bands_comp, out1_comp, epochs=2000, batch_size=32, validation_split=0.2,shuffle=True, verbose=1,callbacks=[stop_early,IR_model_checkpoint_callback])"
   ]
  },
  {
   "cell_type": "code",
   "execution_count": null,
   "metadata": {},
   "outputs": [],
   "source": []
  }
 ],
 "metadata": {
  "kernelspec": {
   "display_name": "Python [conda env:.conda-rfsep]",
   "language": "python",
   "name": "conda-env-.conda-rfsep-py"
  },
  "language_info": {
   "codemirror_mode": {
    "name": "ipython",
    "version": 3
   },
   "file_extension": ".py",
   "mimetype": "text/x-python",
   "name": "python",
   "nbconvert_exporter": "python",
   "pygments_lexer": "ipython3",
   "version": "3.7.6"
  }
 },
 "nbformat": 4,
 "nbformat_minor": 4
}
